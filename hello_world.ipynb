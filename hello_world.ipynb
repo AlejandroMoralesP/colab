{
  "nbformat": 4,
  "nbformat_minor": 0,
  "metadata": {
    "colab": {
      "name": "prova.ipynb",
      "version": "0.3.2",
      "provenance": [],
      "toc_visible": true
    },
    "kernelspec": {
      "name": "python3",
      "display_name": "Python 3"
    }
  },
  "cells": [
    {
      "metadata": {
        "id": "R2gnXknWvI2A",
        "colab_type": "code",
        "colab": {
          "base_uri": "https://localhost:8080/",
          "height": 35
        },
        "outputId": "6158bf99-872a-4980-e7ff-c676a07bb8b6"
      },
      "cell_type": "code",
      "source": [
        "print(\"Hello World, from Continual AI!\")"
      ],
      "execution_count": 2,
      "outputs": [
        {
          "output_type": "stream",
          "text": [
            "Hello World, from Continual AI!\n"
          ],
          "name": "stdout"
        }
      ]
    }
  ]
}